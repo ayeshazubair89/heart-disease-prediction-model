{
  "nbformat": 4,
  "nbformat_minor": 0,
  "metadata": {
    "colab": {
      "provenance": []
    },
    "kernelspec": {
      "name": "python3",
      "display_name": "Python 3"
    },
    "language_info": {
      "name": "python"
    }
  },
  "cells": [
    {
      "cell_type": "markdown",
      "source": [
        "Name: Ayesha Zubair\n",
        "\n",
        "Email: ayeshazubair230@gmail.com\n",
        "\n",
        "---\n",
        "\n",
        "\n",
        "\n",
        "# **AI 2024 Online Summer Internship**\n",
        "## **Make Your Place in top 20% AI Engineers of the World**\n",
        "# **Assignment 2 :**\n",
        "## **Heart Disease Prediction**"
      ],
      "metadata": {
        "id": "Nm4_uNm5Dl7B"
      }
    },
    {
      "cell_type": "markdown",
      "source": [
        "**Executing Machine Learning Cycle Using a Single File**\n",
        "\n",
        "In Sha Allah, we will follow the following steps to execute the Machine Learning Cycle Using a Single File\n",
        "\n",
        "Step 1: Import Libraries\n",
        "\n",
        "Step 2: Load Sample Data\n",
        "\n",
        "Step 3: Understand and Pre-process Sample Data\n",
        "\n",
        "Step 3.1: Understand Sample Data\n",
        "\n",
        "Step 3.2: Pre-process Sample Data\n",
        "\n",
        "Step 4: Feature Extraction\n",
        "\n",
        "Step 5: Label Encoding (Input and Output is converted in Numeric Representation)\n",
        "\n",
        "Step 5.1: Train the Label Encoder\n",
        "\n",
        "Step 5.2: Label Encode the Output\n",
        "\n",
        "Step 5.3: Label Encode the Input\n",
        "\n",
        "Step 6: Execute the Training Phase\n",
        "\n",
        "Step 6.1: Splitting Sample Data into Training Data and Testing Data\n",
        "\n",
        "Step 6.2: Splitting Input Vectors and Outputs / Labels of Training Data\n",
        "\n",
        "Step 6.3: Train the Support Vector Classifier\n",
        "\n",
        "Step 6.4: Save the Trained Model\n",
        "\n",
        "Step 7: Execute the Testing Phase\n",
        "\n",
        "Step 7.1: Splitting Input Vectors and Outputs/Labels of Testing Data\n",
        "\n",
        "Step 7.2: Load the Saved Model\n",
        "\n",
        "Step 7.3: Evaluate the Performance of Trained Model\n",
        "\n",
        "    Step 7.3.1: Make Predictions with the Trained Model on Testing Data\n",
        "\n",
        "Step 7.4: Calculate the Accuracy Score\n",
        "\n",
        "Step 8: Execute the Application Phase\n",
        "\n",
        "Step 8.1: Take Input from User\n",
        "\n",
        "Step 8.2: Convert User Input into Feature Vector (Exactly Same as Feature Vectors of Sample Data)\n",
        "\n",
        "Step 8.3: Label Encoding of Feature Vector (Exactly Same as Label Encoded Feature Vectors of Sample Data)\n",
        "\n",
        "Step 8.4: Load the Saved Model\n",
        "\n",
        "Step 8.5: Model Prediction\n",
        "\n",
        "     Step 8.5.1: Apply Model on the Label Encoded Feature Vector of unseen instance and return Prediction to the User\n",
        "Step 9: Execute the Feedback Phase\n",
        "\n",
        "Step 10: Improve the Model based on Feedback"
      ],
      "metadata": {
        "id": "L_0eiIfeLXzN"
      }
    },
    {
      "cell_type": "markdown",
      "source": [
        "## ***Import Libraries***"
      ],
      "metadata": {
        "id": "PRWhxmBxKS5y"
      }
    },
    {
      "cell_type": "code",
      "source": [
        "# Import Libraries\n",
        "\n",
        "import numpy as np\n",
        "import pandas as pd\n",
        "import pickle\n",
        "\n",
        "from sklearn.model_selection import train_test_split\n",
        "from sklearn.preprocessing import LabelEncoder\n",
        "from sklearn import svm\n",
        "from sklearn.metrics import accuracy_score\n",
        "\n",
        "from prettytable import PrettyTable\n",
        "from astropy.table import Table, Column"
      ],
      "metadata": {
        "id": "_6J5pxCxDxy7"
      },
      "execution_count": 3,
      "outputs": []
    },
    {
      "cell_type": "markdown",
      "source": [
        "## ***Step 2: Load Sample Data***"
      ],
      "metadata": {
        "id": "ZbCtKaMkD4LX"
      }
    },
    {
      "cell_type": "code",
      "source": [
        "sample_data = pd.read_csv(\"/content/four heart disease.csv\")\n",
        "\n",
        "print(\"\\n\\nSample Data:\")\n",
        "print(\"============\\n\")\n",
        "pd.set_option(\"display.max_rows\", None, \"display.max_columns\", None)\n",
        "print(sample_data)"
      ],
      "metadata": {
        "colab": {
          "base_uri": "https://localhost:8080/"
        },
        "id": "gb5t8nTED9tk",
        "outputId": "5ca0949f-7d98-4ecc-8de4-75e0df4bff23"
      },
      "execution_count": 4,
      "outputs": [
        {
          "output_type": "stream",
          "name": "stdout",
          "text": [
            "\n",
            "\n",
            "Sample Data:\n",
            "============\n",
            "\n",
            "    cp  thalach  exang  oldpeak  target\n",
            "0    3      150      0      2.3       1\n",
            "1    2      187      0      3.5       1\n",
            "2    1      172      0      1.4       1\n",
            "3    1      178      0      0.8       1\n",
            "4    0      163      1      0.6       1\n",
            "5    0      148      0      0.4       1\n",
            "6    1      153      0      1.3       1\n",
            "7    1      173      0      0.0       1\n",
            "8    2      162      0      0.5       1\n",
            "9    2      174      0      1.6       1\n",
            "10   0      160      0      1.2       1\n",
            "11   2      139      0      0.2       1\n",
            "12   1      171      0      0.6       1\n",
            "13   3      144      1      1.8       1\n",
            "14   3      162      0      1.0       1\n",
            "15   2      158      0      1.6       1\n",
            "16   2      172      0      0.0       1\n",
            "17   3      114      0      2.6       1\n",
            "18   0      171      0      1.5       1\n",
            "19   3      151      0      1.8       1\n",
            "20   0      161      0      0.5       1\n",
            "21   2      179      1      0.4       1\n",
            "22   0      178      0      0.0       1\n",
            "23   2      137      1      1.0       1\n",
            "24   3      178      1      1.4       1\n",
            "25   1      162      0      0.4       1\n",
            "26   2      157      0      1.6       1\n",
            "27   2      123      0      0.6       1\n",
            "28   2      157      0      0.8       1\n",
            "29   2      152      0      1.2       1\n",
            "30   1      168      0      0.0       1\n",
            "31   0      140      0      0.4       1\n",
            "32   1      188      0      0.0       1\n",
            "33   2      152      0      0.5       1\n",
            "34   3      125      1      1.4       1\n",
            "35   2      160      1      1.4       1\n",
            "36   2      170      0      0.0       1\n",
            "37   2      165      0      1.6       1\n",
            "38   2      148      0      0.8       1\n",
            "39   2      151      0      0.8       1\n",
            "40   2      142      0      1.5       1\n",
            "41   1      180      0      0.2       1\n",
            "42   0      148      1      3.0       1\n",
            "43   0      143      0      0.4       1\n",
            "44   2      182      0      0.0       1\n",
            "45   1      172      0      0.2       1\n",
            "46   2      180      0      0.0       1\n",
            "47   2      156      0      0.0       1\n",
            "48   2      115      0      0.0       1\n",
            "49   0      160      0      0.0       1\n",
            "50   0      108      1      1.5       0\n",
            "51   0      129      1      2.6       0\n",
            "52   0      160      0      3.6       0\n",
            "53   0      147      0      1.4       0\n",
            "54   0      155      1      3.1       0\n",
            "55   2      142      1      0.6       0\n",
            "56   1      168      0      1.0       0\n",
            "57   1      160      0      1.8       0\n",
            "58   2      173      0      3.2       0\n",
            "59   0      132      1      2.4       0\n",
            "60   0      114      1      2.0       0\n",
            "61   0      160      1      1.4       0\n",
            "62   2      158      0      0.0       0\n",
            "63   0      120      1      2.5       0\n",
            "64   0      112      1      0.6       0\n",
            "65   0      132      1      1.2       0\n",
            "66   0      114      0      1.0       0\n",
            "67   0      169      0      0.0       0\n",
            "68   2      165      0      2.5       0\n",
            "69   0      128      0      2.6       0\n",
            "70   0      153      0      0.0       0\n",
            "71   0      144      1      1.4       0\n",
            "72   0      109      1      2.2       0\n",
            "73   2      163      0      0.6       0\n",
            "74   0      158      0      0.0       0\n",
            "75   0      142      1      1.2       0\n",
            "76   0      131      1      2.2       0\n",
            "77   0      113      0      1.4       0\n",
            "78   0      142      1      2.8       0\n",
            "79   2      155      0      3.0       0\n",
            "80   0      140      1      3.4       0\n",
            "81   2      147      0      3.6       0\n",
            "82   0      163      0      0.2       0\n",
            "83   0       99      1      1.8       0\n",
            "84   0      158      0      0.6       0\n",
            "85   0      177      0      0.0       0\n",
            "86   0      141      1      2.8       0\n",
            "87   0      111      1      0.8       0\n",
            "88   2      150      1      1.6       0\n",
            "89   0      145      0      6.2       0\n",
            "90   0      161      1      0.0       0\n",
            "91   0      142      1      1.2       0\n",
            "92   0      157      0      2.6       0\n",
            "93   2      139      0      2.0       0\n",
            "94   0      162      1      0.0       0\n",
            "95   2      150      0      0.4       0\n",
            "96   0      140      1      3.6       0\n",
            "97   0      140      0      1.2       0\n",
            "98   0      146      1      1.0       0\n",
            "99   0      144      1      1.2       0\n"
          ]
        }
      ]
    },
    {
      "cell_type": "markdown",
      "source": [
        "## ***Step 3: Understand and Pre-process Sample Data***"
      ],
      "metadata": {
        "id": "wf4Kok-KEAy9"
      }
    },
    {
      "cell_type": "code",
      "source": [
        "# Understand Sample Data\n",
        "\n",
        "print(\"\\n\\nAttributes in Sample Data:\")\n",
        "print(\"==========================\\n\")\n",
        "\n",
        "print(sample_data.columns)\n",
        "\n",
        "print(\"\\n\\nNumber of Instances in Sample Data:\",sample_data[\"cp\"].count())\n",
        "print(\"========================================\\n\")"
      ],
      "metadata": {
        "colab": {
          "base_uri": "https://localhost:8080/"
        },
        "id": "6K4dVBqyEFem",
        "outputId": "e3dd72d8-cb97-4731-bc62-53f794e3a7a5"
      },
      "execution_count": 5,
      "outputs": [
        {
          "output_type": "stream",
          "name": "stdout",
          "text": [
            "\n",
            "\n",
            "Attributes in Sample Data:\n",
            "==========================\n",
            "\n",
            "Index(['cp', 'thalach', 'exang', 'oldpeak', 'target'], dtype='object')\n",
            "\n",
            "\n",
            "Number of Instances in Sample Data: 100\n",
            "========================================\n",
            "\n"
          ]
        }
      ]
    },
    {
      "cell_type": "markdown",
      "source": [
        "## ***step 4: Feature Extraction***"
      ],
      "metadata": {
        "id": "YRrq6xYwEKXG"
      }
    },
    {
      "cell_type": "markdown",
      "source": [
        "\n",
        "o    Features are already Extracted\n",
        "\n",
        "o    No Feature Extraction needs to be Performed"
      ],
      "metadata": {
        "id": "5hNBbeD2ESIE"
      }
    },
    {
      "cell_type": "markdown",
      "source": [
        "## ***Step 5: Label Encoding the Sample Data (Input and Output is converted in Numeric Representation)***"
      ],
      "metadata": {
        "id": "s8jQUF_cEa39"
      }
    },
    {
      "cell_type": "markdown",
      "source": [
        " Its already in numerical form so no need to encode them\n"
      ],
      "metadata": {
        "id": "JWRKUr99EgmP"
      }
    },
    {
      "cell_type": "markdown",
      "source": [
        "## ***Step 6: Execute the Training Phase***"
      ],
      "metadata": {
        "id": "wUFJS8qCEk-V"
      }
    },
    {
      "cell_type": "markdown",
      "source": [
        "**Step 6.1: Splitting Sample Data into Training Data and Testing Data**"
      ],
      "metadata": {
        "id": "FV11KMatEsfl"
      }
    },
    {
      "cell_type": "code",
      "source": [
        "# Splitting Sample Data into Training Data and Testing Data\n",
        "\n",
        "training_data_encoded, testing_data_encoded = train_test_split( sample_data , test_size=0.2 , random_state=0 , shuffle = False)\n",
        "\n",
        "# Save the Training and Testing Data into CSV File\n",
        "\n",
        "training_data_encoded.to_csv(r'training-data-encoded.csv', index = False, header = True)\n",
        "testing_data_encoded.to_csv(r'testing-data-encoded.csv', index = False, header = True)\n",
        "\n",
        "# print Training and Testing Data\n",
        "\n",
        "print(\"\\n\\nTraining Data:\")\n",
        "print(\"==============\\n\")\n",
        "pd.set_option(\"display.max_rows\", None, \"display.max_columns\", None)\n",
        "print(training_data_encoded)\n",
        "print(\"\\n\\nTesting Data:\")\n",
        "print(\"==============\\n\")\n",
        "pd.set_option(\"display.max_rows\", None, \"display.max_columns\", None)\n",
        "print(testing_data_encoded)"
      ],
      "metadata": {
        "colab": {
          "base_uri": "https://localhost:8080/"
        },
        "id": "xI2f3Jv_EwiV",
        "outputId": "8695be20-4152-4d71-88f2-fb455b9bdb44"
      },
      "execution_count": 6,
      "outputs": [
        {
          "output_type": "stream",
          "name": "stdout",
          "text": [
            "\n",
            "\n",
            "Training Data:\n",
            "==============\n",
            "\n",
            "    cp  thalach  exang  oldpeak  target\n",
            "0    3      150      0      2.3       1\n",
            "1    2      187      0      3.5       1\n",
            "2    1      172      0      1.4       1\n",
            "3    1      178      0      0.8       1\n",
            "4    0      163      1      0.6       1\n",
            "5    0      148      0      0.4       1\n",
            "6    1      153      0      1.3       1\n",
            "7    1      173      0      0.0       1\n",
            "8    2      162      0      0.5       1\n",
            "9    2      174      0      1.6       1\n",
            "10   0      160      0      1.2       1\n",
            "11   2      139      0      0.2       1\n",
            "12   1      171      0      0.6       1\n",
            "13   3      144      1      1.8       1\n",
            "14   3      162      0      1.0       1\n",
            "15   2      158      0      1.6       1\n",
            "16   2      172      0      0.0       1\n",
            "17   3      114      0      2.6       1\n",
            "18   0      171      0      1.5       1\n",
            "19   3      151      0      1.8       1\n",
            "20   0      161      0      0.5       1\n",
            "21   2      179      1      0.4       1\n",
            "22   0      178      0      0.0       1\n",
            "23   2      137      1      1.0       1\n",
            "24   3      178      1      1.4       1\n",
            "25   1      162      0      0.4       1\n",
            "26   2      157      0      1.6       1\n",
            "27   2      123      0      0.6       1\n",
            "28   2      157      0      0.8       1\n",
            "29   2      152      0      1.2       1\n",
            "30   1      168      0      0.0       1\n",
            "31   0      140      0      0.4       1\n",
            "32   1      188      0      0.0       1\n",
            "33   2      152      0      0.5       1\n",
            "34   3      125      1      1.4       1\n",
            "35   2      160      1      1.4       1\n",
            "36   2      170      0      0.0       1\n",
            "37   2      165      0      1.6       1\n",
            "38   2      148      0      0.8       1\n",
            "39   2      151      0      0.8       1\n",
            "40   2      142      0      1.5       1\n",
            "41   1      180      0      0.2       1\n",
            "42   0      148      1      3.0       1\n",
            "43   0      143      0      0.4       1\n",
            "44   2      182      0      0.0       1\n",
            "45   1      172      0      0.2       1\n",
            "46   2      180      0      0.0       1\n",
            "47   2      156      0      0.0       1\n",
            "48   2      115      0      0.0       1\n",
            "49   0      160      0      0.0       1\n",
            "50   0      108      1      1.5       0\n",
            "51   0      129      1      2.6       0\n",
            "52   0      160      0      3.6       0\n",
            "53   0      147      0      1.4       0\n",
            "54   0      155      1      3.1       0\n",
            "55   2      142      1      0.6       0\n",
            "56   1      168      0      1.0       0\n",
            "57   1      160      0      1.8       0\n",
            "58   2      173      0      3.2       0\n",
            "59   0      132      1      2.4       0\n",
            "60   0      114      1      2.0       0\n",
            "61   0      160      1      1.4       0\n",
            "62   2      158      0      0.0       0\n",
            "63   0      120      1      2.5       0\n",
            "64   0      112      1      0.6       0\n",
            "65   0      132      1      1.2       0\n",
            "66   0      114      0      1.0       0\n",
            "67   0      169      0      0.0       0\n",
            "68   2      165      0      2.5       0\n",
            "69   0      128      0      2.6       0\n",
            "70   0      153      0      0.0       0\n",
            "71   0      144      1      1.4       0\n",
            "72   0      109      1      2.2       0\n",
            "73   2      163      0      0.6       0\n",
            "74   0      158      0      0.0       0\n",
            "75   0      142      1      1.2       0\n",
            "76   0      131      1      2.2       0\n",
            "77   0      113      0      1.4       0\n",
            "78   0      142      1      2.8       0\n",
            "79   2      155      0      3.0       0\n",
            "\n",
            "\n",
            "Testing Data:\n",
            "==============\n",
            "\n",
            "    cp  thalach  exang  oldpeak  target\n",
            "80   0      140      1      3.4       0\n",
            "81   2      147      0      3.6       0\n",
            "82   0      163      0      0.2       0\n",
            "83   0       99      1      1.8       0\n",
            "84   0      158      0      0.6       0\n",
            "85   0      177      0      0.0       0\n",
            "86   0      141      1      2.8       0\n",
            "87   0      111      1      0.8       0\n",
            "88   2      150      1      1.6       0\n",
            "89   0      145      0      6.2       0\n",
            "90   0      161      1      0.0       0\n",
            "91   0      142      1      1.2       0\n",
            "92   0      157      0      2.6       0\n",
            "93   2      139      0      2.0       0\n",
            "94   0      162      1      0.0       0\n",
            "95   2      150      0      0.4       0\n",
            "96   0      140      1      3.6       0\n",
            "97   0      140      0      1.2       0\n",
            "98   0      146      1      1.0       0\n",
            "99   0      144      1      1.2       0\n"
          ]
        }
      ]
    },
    {
      "cell_type": "markdown",
      "source": [
        "**Step 6.2: Splitting Input Vectors and Outputs / Labels of Training Data**"
      ],
      "metadata": {
        "id": "DxbdIQV8Grln"
      }
    },
    {
      "cell_type": "code",
      "source": [
        "# Splitting Input Vectors and Outputs / Labels of Training Data\n",
        "print(\"\\n\\nInputs Vectors (Feature Vectors) of Training Data:\")\n",
        "print(\"==================================================\\n\")\n",
        "input_vector_train = training_data_encoded.iloc[: , :-1]\n",
        "print(input_vector_train)\n",
        "\n",
        "print(\"\\n\\nOutputs/Labels of Training Data:\")\n",
        "print(\"================================\\n\")\n",
        "print(\"  Survived\")\n",
        "output_label_train = training_data_encoded.iloc[: ,-1]\n",
        "print(output_label_train)"
      ],
      "metadata": {
        "colab": {
          "base_uri": "https://localhost:8080/"
        },
        "id": "I_Z_ESDoGte8",
        "outputId": "aa2f83c8-2a64-4554-a753-fb5550bd6d5c"
      },
      "execution_count": 7,
      "outputs": [
        {
          "output_type": "stream",
          "name": "stdout",
          "text": [
            "\n",
            "\n",
            "Inputs Vectors (Feature Vectors) of Training Data:\n",
            "==================================================\n",
            "\n",
            "    cp  thalach  exang  oldpeak\n",
            "0    3      150      0      2.3\n",
            "1    2      187      0      3.5\n",
            "2    1      172      0      1.4\n",
            "3    1      178      0      0.8\n",
            "4    0      163      1      0.6\n",
            "5    0      148      0      0.4\n",
            "6    1      153      0      1.3\n",
            "7    1      173      0      0.0\n",
            "8    2      162      0      0.5\n",
            "9    2      174      0      1.6\n",
            "10   0      160      0      1.2\n",
            "11   2      139      0      0.2\n",
            "12   1      171      0      0.6\n",
            "13   3      144      1      1.8\n",
            "14   3      162      0      1.0\n",
            "15   2      158      0      1.6\n",
            "16   2      172      0      0.0\n",
            "17   3      114      0      2.6\n",
            "18   0      171      0      1.5\n",
            "19   3      151      0      1.8\n",
            "20   0      161      0      0.5\n",
            "21   2      179      1      0.4\n",
            "22   0      178      0      0.0\n",
            "23   2      137      1      1.0\n",
            "24   3      178      1      1.4\n",
            "25   1      162      0      0.4\n",
            "26   2      157      0      1.6\n",
            "27   2      123      0      0.6\n",
            "28   2      157      0      0.8\n",
            "29   2      152      0      1.2\n",
            "30   1      168      0      0.0\n",
            "31   0      140      0      0.4\n",
            "32   1      188      0      0.0\n",
            "33   2      152      0      0.5\n",
            "34   3      125      1      1.4\n",
            "35   2      160      1      1.4\n",
            "36   2      170      0      0.0\n",
            "37   2      165      0      1.6\n",
            "38   2      148      0      0.8\n",
            "39   2      151      0      0.8\n",
            "40   2      142      0      1.5\n",
            "41   1      180      0      0.2\n",
            "42   0      148      1      3.0\n",
            "43   0      143      0      0.4\n",
            "44   2      182      0      0.0\n",
            "45   1      172      0      0.2\n",
            "46   2      180      0      0.0\n",
            "47   2      156      0      0.0\n",
            "48   2      115      0      0.0\n",
            "49   0      160      0      0.0\n",
            "50   0      108      1      1.5\n",
            "51   0      129      1      2.6\n",
            "52   0      160      0      3.6\n",
            "53   0      147      0      1.4\n",
            "54   0      155      1      3.1\n",
            "55   2      142      1      0.6\n",
            "56   1      168      0      1.0\n",
            "57   1      160      0      1.8\n",
            "58   2      173      0      3.2\n",
            "59   0      132      1      2.4\n",
            "60   0      114      1      2.0\n",
            "61   0      160      1      1.4\n",
            "62   2      158      0      0.0\n",
            "63   0      120      1      2.5\n",
            "64   0      112      1      0.6\n",
            "65   0      132      1      1.2\n",
            "66   0      114      0      1.0\n",
            "67   0      169      0      0.0\n",
            "68   2      165      0      2.5\n",
            "69   0      128      0      2.6\n",
            "70   0      153      0      0.0\n",
            "71   0      144      1      1.4\n",
            "72   0      109      1      2.2\n",
            "73   2      163      0      0.6\n",
            "74   0      158      0      0.0\n",
            "75   0      142      1      1.2\n",
            "76   0      131      1      2.2\n",
            "77   0      113      0      1.4\n",
            "78   0      142      1      2.8\n",
            "79   2      155      0      3.0\n",
            "\n",
            "\n",
            "Outputs/Labels of Training Data:\n",
            "================================\n",
            "\n",
            "  Survived\n",
            "0     1\n",
            "1     1\n",
            "2     1\n",
            "3     1\n",
            "4     1\n",
            "5     1\n",
            "6     1\n",
            "7     1\n",
            "8     1\n",
            "9     1\n",
            "10    1\n",
            "11    1\n",
            "12    1\n",
            "13    1\n",
            "14    1\n",
            "15    1\n",
            "16    1\n",
            "17    1\n",
            "18    1\n",
            "19    1\n",
            "20    1\n",
            "21    1\n",
            "22    1\n",
            "23    1\n",
            "24    1\n",
            "25    1\n",
            "26    1\n",
            "27    1\n",
            "28    1\n",
            "29    1\n",
            "30    1\n",
            "31    1\n",
            "32    1\n",
            "33    1\n",
            "34    1\n",
            "35    1\n",
            "36    1\n",
            "37    1\n",
            "38    1\n",
            "39    1\n",
            "40    1\n",
            "41    1\n",
            "42    1\n",
            "43    1\n",
            "44    1\n",
            "45    1\n",
            "46    1\n",
            "47    1\n",
            "48    1\n",
            "49    1\n",
            "50    0\n",
            "51    0\n",
            "52    0\n",
            "53    0\n",
            "54    0\n",
            "55    0\n",
            "56    0\n",
            "57    0\n",
            "58    0\n",
            "59    0\n",
            "60    0\n",
            "61    0\n",
            "62    0\n",
            "63    0\n",
            "64    0\n",
            "65    0\n",
            "66    0\n",
            "67    0\n",
            "68    0\n",
            "69    0\n",
            "70    0\n",
            "71    0\n",
            "72    0\n",
            "73    0\n",
            "74    0\n",
            "75    0\n",
            "76    0\n",
            "77    0\n",
            "78    0\n",
            "79    0\n",
            "Name: target, dtype: int64\n"
          ]
        }
      ]
    },
    {
      "cell_type": "markdown",
      "source": [
        "**6.3: Train the Support Vector Classifier**"
      ],
      "metadata": {
        "id": "Ls5toj1vHB-u"
      }
    },
    {
      "cell_type": "code",
      "source": [
        "# Train the Support Vector Classifier\n",
        "\n",
        "print(\"\\n\\nTraining the Support Vector Classifier on Training Data\")\n",
        "print(\"========================================================\\n\")\n",
        "print(\"\\nParameters and their values:\")\n",
        "print(\"============================\\n\")\n",
        "svc_model = svm.SVC(gamma='auto',random_state=0)\n",
        "svc_model.fit(input_vector_train,np.ravel(output_label_train))\n",
        "print(svc_model)"
      ],
      "metadata": {
        "colab": {
          "base_uri": "https://localhost:8080/"
        },
        "id": "oId2J3K1HIAT",
        "outputId": "55af4366-1b32-4d46-e679-81db9fe7f6f1"
      },
      "execution_count": 8,
      "outputs": [
        {
          "output_type": "stream",
          "name": "stdout",
          "text": [
            "\n",
            "\n",
            "Training the Support Vector Classifier on Training Data\n",
            "========================================================\n",
            "\n",
            "\n",
            "Parameters and their values:\n",
            "============================\n",
            "\n",
            "SVC(gamma='auto', random_state=0)\n"
          ]
        }
      ]
    },
    {
      "cell_type": "markdown",
      "source": [
        "**Step 6.4: Save the Trained Model**"
      ],
      "metadata": {
        "id": "lhBsIE8THWYB"
      }
    },
    {
      "cell_type": "code",
      "source": [
        "# Save the Trained Model\n",
        "# Save the Model in a Pkl File\n",
        "\n",
        "pickle.dump(svc_model, open('svc_trained_model.pkl', 'wb'))"
      ],
      "metadata": {
        "id": "xT_1krxeHX1P"
      },
      "execution_count": 9,
      "outputs": []
    },
    {
      "cell_type": "markdown",
      "source": [
        "## ***Step 7: Execute the Testing Phase***"
      ],
      "metadata": {
        "id": "DqHYAy5ZHqvL"
      }
    },
    {
      "cell_type": "markdown",
      "source": [
        "**Step 7.1: Splitting Input Vectors and Outputs/Labels of Testing Data**"
      ],
      "metadata": {
        "id": "_yrUwv8IHvzM"
      }
    },
    {
      "cell_type": "code",
      "source": [
        "# Splitting Input Vectors and Outputs/Labels of Testing Data\n",
        "\n",
        "print(\"\\n\\nInputs Vectors (Feature Vectors) of Testing Data:\")\n",
        "print(\"=================================================\\n\")\n",
        "input_vector_test = testing_data_encoded.iloc[: , :-1]\n",
        "print(input_vector_test)\n",
        "\n",
        "print(\"\\n\\nOutputs/Labels of Testing Data:\")\n",
        "print(\"==============================\\n\")\n",
        "print(\"  Target\")\n",
        "output_label_test = testing_data_encoded.iloc[: ,-1]\n",
        "print(output_label_test)"
      ],
      "metadata": {
        "colab": {
          "base_uri": "https://localhost:8080/"
        },
        "id": "B7BDQJIxH0nA",
        "outputId": "6a727912-fc83-403b-f52a-c010f4cf72e0"
      },
      "execution_count": 10,
      "outputs": [
        {
          "output_type": "stream",
          "name": "stdout",
          "text": [
            "\n",
            "\n",
            "Inputs Vectors (Feature Vectors) of Testing Data:\n",
            "=================================================\n",
            "\n",
            "    cp  thalach  exang  oldpeak\n",
            "80   0      140      1      3.4\n",
            "81   2      147      0      3.6\n",
            "82   0      163      0      0.2\n",
            "83   0       99      1      1.8\n",
            "84   0      158      0      0.6\n",
            "85   0      177      0      0.0\n",
            "86   0      141      1      2.8\n",
            "87   0      111      1      0.8\n",
            "88   2      150      1      1.6\n",
            "89   0      145      0      6.2\n",
            "90   0      161      1      0.0\n",
            "91   0      142      1      1.2\n",
            "92   0      157      0      2.6\n",
            "93   2      139      0      2.0\n",
            "94   0      162      1      0.0\n",
            "95   2      150      0      0.4\n",
            "96   0      140      1      3.6\n",
            "97   0      140      0      1.2\n",
            "98   0      146      1      1.0\n",
            "99   0      144      1      1.2\n",
            "\n",
            "\n",
            "Outputs/Labels of Testing Data:\n",
            "==============================\n",
            "\n",
            "  Target\n",
            "80    0\n",
            "81    0\n",
            "82    0\n",
            "83    0\n",
            "84    0\n",
            "85    0\n",
            "86    0\n",
            "87    0\n",
            "88    0\n",
            "89    0\n",
            "90    0\n",
            "91    0\n",
            "92    0\n",
            "93    0\n",
            "94    0\n",
            "95    0\n",
            "96    0\n",
            "97    0\n",
            "98    0\n",
            "99    0\n",
            "Name: target, dtype: int64\n"
          ]
        }
      ]
    },
    {
      "cell_type": "markdown",
      "source": [
        "**Step 7.2: Load the Saved Model**"
      ],
      "metadata": {
        "id": "ktr-fONbIAoE"
      }
    },
    {
      "cell_type": "code",
      "source": [
        "# Load the Saved Model\n",
        "\n",
        "model = pickle.load(open('svc_trained_model.pkl', 'rb'))"
      ],
      "metadata": {
        "id": "aAHopMl6ICQr"
      },
      "execution_count": 11,
      "outputs": []
    },
    {
      "cell_type": "markdown",
      "source": [
        "**Step 7.3: Evaluate the Machine Learning Model**"
      ],
      "metadata": {
        "id": "9DMTrS2PIQ7F"
      }
    },
    {
      "cell_type": "markdown",
      "source": [
        "**Step 7.3.1: Make Predictions with the Trained Models on Testing Data**"
      ],
      "metadata": {
        "id": "-twqMqoeIdPG"
      }
    },
    {
      "cell_type": "code",
      "source": [
        "# Evaluate the Machine Learning Model\n",
        "\n",
        "# Provide Test data to the Trained Model\n",
        "\n",
        "model_predictions = model.predict(input_vector_test)\n",
        "testing_data_encoded.copy(deep=True)\n",
        "pd.options.mode.chained_assignment = None\n",
        "testing_data_encoded[\"Predictions\"] = model_predictions\n",
        "\n",
        "# Save the Predictions into CSV File\n",
        "\n",
        "testing_data_encoded.to_csv(r'model-predictions.csv', index = False, header = True)\n",
        "\n",
        "model_predictions = testing_data_encoded\n",
        "print(\"\\n\\nPredictions Returned by svc_trained_model:\")\n",
        "print(\"==========================================\\n\")\n",
        "print(model_predictions)"
      ],
      "metadata": {
        "colab": {
          "base_uri": "https://localhost:8080/"
        },
        "id": "m29ZvBNyITk_",
        "outputId": "796cedf8-e273-409c-c73d-f2385b8e0631"
      },
      "execution_count": 12,
      "outputs": [
        {
          "output_type": "stream",
          "name": "stdout",
          "text": [
            "\n",
            "\n",
            "Predictions Returned by svc_trained_model:\n",
            "==========================================\n",
            "\n",
            "    cp  thalach  exang  oldpeak  target  Predictions\n",
            "80   0      140      1      3.4       0            1\n",
            "81   2      147      0      3.6       0            1\n",
            "82   0      163      0      0.2       0            1\n",
            "83   0       99      1      1.8       0            1\n",
            "84   0      158      0      0.6       0            0\n",
            "85   0      177      0      0.0       0            1\n",
            "86   0      141      1      2.8       0            0\n",
            "87   0      111      1      0.8       0            0\n",
            "88   2      150      1      1.6       0            1\n",
            "89   0      145      0      6.2       0            1\n",
            "90   0      161      1      0.0       0            1\n",
            "91   0      142      1      1.2       0            0\n",
            "92   0      157      0      2.6       0            0\n",
            "93   2      139      0      2.0       0            1\n",
            "94   0      162      1      0.0       0            1\n",
            "95   2      150      0      0.4       0            1\n",
            "96   0      140      1      3.6       0            1\n",
            "97   0      140      0      1.2       0            1\n",
            "98   0      146      1      1.0       0            0\n",
            "99   0      144      1      1.2       0            0\n"
          ]
        }
      ]
    },
    {
      "cell_type": "markdown",
      "source": [
        "**Step 7.4: Calculate the Accuracy Score**"
      ],
      "metadata": {
        "id": "CKoCO81gItlw"
      }
    },
    {
      "cell_type": "code",
      "source": [
        "# Calculate the Accuracy Score\n",
        "\n",
        "\n",
        "model_accuracy_score = accuracy_score(model_predictions[\"target\"],model_predictions[\"Predictions\"])\n",
        "\n",
        "print(\"\\n\\nAccuracy Score:\")\n",
        "print(\"===============\\n\")\n",
        "print(round(model_accuracy_score,2))"
      ],
      "metadata": {
        "colab": {
          "base_uri": "https://localhost:8080/"
        },
        "id": "Jmytpv9cIzs_",
        "outputId": "a98e6805-ddfb-43c3-d1eb-c1bc435a4c46"
      },
      "execution_count": 13,
      "outputs": [
        {
          "output_type": "stream",
          "name": "stdout",
          "text": [
            "\n",
            "\n",
            "Accuracy Score:\n",
            "===============\n",
            "\n",
            "0.35\n"
          ]
        }
      ]
    },
    {
      "cell_type": "markdown",
      "source": [
        "## ***Step 8: Execute the Application Phase***"
      ],
      "metadata": {
        "id": "ceOVTJ7hLg18"
      }
    },
    {
      "cell_type": "markdown",
      "source": [
        "**Step 8.1: Take Input from User**"
      ],
      "metadata": {
        "id": "wPk93ggsLov-"
      }
    },
    {
      "cell_type": "code",
      "source": [
        "# Take Input from User\n",
        "\n",
        "# Prompt the user for inputs\n",
        "cp_input = input(\"Please enter CP (chest pain type): \").strip()\n",
        "thalach_input = input(\"Please enter Thalach (maximum heart rate achieved): \").strip()\n",
        "exang_input = input(\"Please enter Exang (exercise induced angina, 1 = yes; 0 = no): \").strip()\n",
        "oldpeak_input = input(\"Please enter Oldpeak (ST depression induced by exercise relative to rest): \").strip()\n",
        "\n"
      ],
      "metadata": {
        "colab": {
          "base_uri": "https://localhost:8080/"
        },
        "id": "vU5n0ulZMeYL",
        "outputId": "c4f25e5a-88aa-41e5-d9ae-183e26a4f65e"
      },
      "execution_count": 14,
      "outputs": [
        {
          "name": "stdout",
          "output_type": "stream",
          "text": [
            "Please enter CP (chest pain type): 3\n",
            "Please enter Thalach (maximum heart rate achieved): 144\n",
            "Please enter Exang (exercise induced angina, 1 = yes; 0 = no): 0\n",
            "Please enter Oldpeak (ST depression induced by exercise relative to rest): 3.5\n"
          ]
        }
      ]
    },
    {
      "cell_type": "markdown",
      "source": [
        "**Step 8.2: Convert User Input into Feature Vector (Exactly Same as Feature Vectors of Sample Data)**"
      ],
      "metadata": {
        "id": "avg9UEoXO-r8"
      }
    },
    {
      "cell_type": "code",
      "source": [
        "# Convert User Input into Feature Vector\n",
        "\n",
        "# Create a DataFrame with the input data\n",
        "data = {\n",
        "       'cp': [cp_input],\n",
        "       'thalach': [thalach_input],\n",
        "       'exang': [exang_input],\n",
        "       'oldpeak': [oldpeak_input],\n",
        "\n",
        "}\n",
        "\n",
        "df = pd.DataFrame(data)\n",
        "\n",
        "# Append to the existing CSV file\n",
        "df.to_csv('/content/sample_data/inputs_only.csv', mode='a', header=False, index=False)\n",
        "\n",
        "print(\"Input data has been written to the CSV file.\")"
      ],
      "metadata": {
        "colab": {
          "base_uri": "https://localhost:8080/"
        },
        "id": "PDPVzaR5PBEc",
        "outputId": "f8c43407-66a3-4fca-ba2a-8a4690aeb0f2"
      },
      "execution_count": 20,
      "outputs": [
        {
          "output_type": "stream",
          "name": "stdout",
          "text": [
            "Input data has been written to the CSV file.\n"
          ]
        }
      ]
    },
    {
      "cell_type": "markdown",
      "source": [
        "**Step 8.3: Label Encoding of Feature Vector (Exactly Same as Label Encoded Feature Vectors of Sample Data)**"
      ],
      "metadata": {
        "id": "v8uZfeQFkgQi"
      }
    },
    {
      "cell_type": "code",
      "source": [
        "from sklearn.preprocessing import LabelEncoder\n",
        "\n",
        "# Sample user inputs\n",
        "cp_input = 2  # example input for cp\n",
        "thalach_input = 150  # example input for thalach\n",
        "exang_input = 1  # example input for exang\n",
        "oldpeak_input = 2.3  # example input for oldpeak\n",
        "\n",
        "# Assuming you have pre-fitted label encoders for 'cp' and 'exang'\n",
        "# cp_label_encoder = LabelEncoder().fit(df['cp'])  # Fit on your actual data\n",
        "# exang_label_encoder = LabelEncoder().fit(df['exang'])  # Fit on your actual data\n",
        "\n",
        "# Example encoders for demonstration (create and fit them on sample data)\n",
        "cp_label_encoder = LabelEncoder().fit([0, 1, 2, 3])\n",
        "exang_label_encoder = LabelEncoder().fit([0, 1])\n",
        "\n",
        "# User input dictionary\n",
        "user_input = {\n",
        "    'cp': [cp_input],\n",
        "    'thalach': [thalach_input],\n",
        "    'exang': [exang_input],\n",
        "    'oldpeak': [oldpeak_input],\n",
        "}\n",
        "\n",
        "# Copy the user input\n",
        "unseen_data_features = user_input.copy()\n",
        "\n",
        "# Encode the categorical features\n",
        "unseen_data_features[\"cp\"] = cp_label_encoder.transform(user_input['cp'])\n",
        "unseen_data_features[\"exang\"] = exang_label_encoder.transform(user_input['exang'])\n",
        "\n",
        "print(\"\\n\\nUser Input Feature Vector:\")\n",
        "print(\"==========================\\n\")\n",
        "print(user_input)\n",
        "\n",
        "print(\"\\n\\nUser Input Encoded Feature Vector:\")\n",
        "print(\"==================================\\n\")\n",
        "print(unseen_data_features)\n"
      ],
      "metadata": {
        "colab": {
          "base_uri": "https://localhost:8080/"
        },
        "id": "1NqdQXx_kiRL",
        "outputId": "5198b280-8844-4ef3-8c6c-e796e6d3b5a3"
      },
      "execution_count": 21,
      "outputs": [
        {
          "output_type": "stream",
          "name": "stdout",
          "text": [
            "\n",
            "\n",
            "User Input Feature Vector:\n",
            "==========================\n",
            "\n",
            "{'cp': [2], 'thalach': [150], 'exang': [1], 'oldpeak': [2.3]}\n",
            "\n",
            "\n",
            "User Input Encoded Feature Vector:\n",
            "==================================\n",
            "\n",
            "{'cp': array([2]), 'thalach': [150], 'exang': array([1]), 'oldpeak': [2.3]}\n"
          ]
        }
      ]
    },
    {
      "cell_type": "markdown",
      "source": [
        "**Step 8.4: Load the Saved Model**"
      ],
      "metadata": {
        "id": "3UcTsbCnkya8"
      }
    },
    {
      "cell_type": "code",
      "source": [
        "\n",
        "# Load the Saved Model\n",
        "\n",
        "model = pickle.load(open('svc_trained_model.pkl', 'rb'))"
      ],
      "metadata": {
        "id": "uFXbctI_k0dh"
      },
      "execution_count": 22,
      "outputs": []
    },
    {
      "cell_type": "markdown",
      "source": [
        "# ***Step 8.5: Model Prediction***"
      ],
      "metadata": {
        "id": "bUpJq_Qgk9XH"
      }
    },
    {
      "cell_type": "markdown",
      "source": [
        "**Step 8.5.1: Apply Model on the Label Encoded Feature Vector of unseen instance and return Prediction to the User**"
      ],
      "metadata": {
        "id": "-A8R4FErlJZw"
      }
    },
    {
      "cell_type": "code",
      "source": [
        "# Convert to DataFrame for model prediction\n",
        "unseen_data_features_df = pd.DataFrame(unseen_data_features)\n",
        "\n",
        "# Assuming 'model' is your pre-trained model\n",
        "# Example: model = RandomForestClassifier().fit(X_train, y_train)\n",
        "\n",
        "# Make a prediction on the unseen data\n",
        "predicted_heart_disease = model.predict(unseen_data_features_df)\n",
        "\n",
        "if predicted_heart_disease[0] == 1:\n",
        "    prediction = \"HEART DISEASE PRESENT\"\n",
        "else:\n",
        "    prediction = \"NO HEART DISEASE\"\n",
        "\n",
        "# Add the Prediction in a Pretty Table\n",
        "pretty_table = PrettyTable()\n",
        "pretty_table.add_column(\"** Prediction **\", [prediction])\n",
        "print(pretty_table)"
      ],
      "metadata": {
        "colab": {
          "base_uri": "https://localhost:8080/"
        },
        "id": "fkoP44iRlR0W",
        "outputId": "c9fd1cd3-87a3-45e4-8978-5db58464cf56"
      },
      "execution_count": 18,
      "outputs": [
        {
          "output_type": "stream",
          "name": "stdout",
          "text": [
            "+-----------------------+\n",
            "|    ** Prediction **   |\n",
            "+-----------------------+\n",
            "| HEART DISEASE PRESENT |\n",
            "+-----------------------+\n"
          ]
        }
      ]
    },
    {
      "cell_type": "markdown",
      "source": [
        "# ***Step 9: Execute the Feedback Phase***"
      ],
      "metadata": {
        "id": "mqmsr3eslzm9"
      }
    },
    {
      "cell_type": "markdown",
      "source": [
        "## **A Two-Step Process**\n",
        "\n",
        "**Step 01:** After some time, take Feedback from\n",
        "\n",
        "o    Domain Experts and Users on deployed Titanic Passenger Survival Prediction System\n",
        "\n",
        "**Step 02:**  Make a List of Possible Improvements based on Feedback received"
      ],
      "metadata": {
        "id": "74ozpkugl4o9"
      }
    },
    {
      "cell_type": "markdown",
      "source": [
        "# ***Step 10: Improve Model based on Feedback***"
      ],
      "metadata": {
        "id": "FyH1YYlTmOGk"
      }
    },
    {
      "cell_type": "markdown",
      "source": [
        "There is Always Room for Improvement\n",
        "\n",
        "Based on Feedback from Domain Experts and Users\n",
        "\n",
        "o    Improve your Model"
      ],
      "metadata": {
        "id": "OoNrJXJEmRRq"
      }
    },
    {
      "cell_type": "code",
      "source": [
        "!pip install nbconvert\n",
        "# Convert notebook to HTML using nbconvert\n",
        "notebook_file = '/Heart_Disease.ipynb'\n",
        "!jupyter nbconvert --to html $notebook_file"
      ],
      "metadata": {
        "colab": {
          "base_uri": "https://localhost:8080/"
        },
        "id": "ApobNAvPvYWn",
        "outputId": "5dae0c2c-92c2-4d9a-c529-bb91e91066d9"
      },
      "execution_count": 19,
      "outputs": [
        {
          "output_type": "stream",
          "name": "stdout",
          "text": [
            "Requirement already satisfied: nbconvert in /usr/local/lib/python3.10/dist-packages (6.5.4)\n",
            "Requirement already satisfied: lxml in /usr/local/lib/python3.10/dist-packages (from nbconvert) (4.9.4)\n",
            "Requirement already satisfied: beautifulsoup4 in /usr/local/lib/python3.10/dist-packages (from nbconvert) (4.12.3)\n",
            "Requirement already satisfied: bleach in /usr/local/lib/python3.10/dist-packages (from nbconvert) (6.1.0)\n",
            "Requirement already satisfied: defusedxml in /usr/local/lib/python3.10/dist-packages (from nbconvert) (0.7.1)\n",
            "Requirement already satisfied: entrypoints>=0.2.2 in /usr/local/lib/python3.10/dist-packages (from nbconvert) (0.4)\n",
            "Requirement already satisfied: jinja2>=3.0 in /usr/local/lib/python3.10/dist-packages (from nbconvert) (3.1.4)\n",
            "Requirement already satisfied: jupyter-core>=4.7 in /usr/local/lib/python3.10/dist-packages (from nbconvert) (5.7.2)\n",
            "Requirement already satisfied: jupyterlab-pygments in /usr/local/lib/python3.10/dist-packages (from nbconvert) (0.3.0)\n",
            "Requirement already satisfied: MarkupSafe>=2.0 in /usr/local/lib/python3.10/dist-packages (from nbconvert) (2.1.5)\n",
            "Requirement already satisfied: mistune<2,>=0.8.1 in /usr/local/lib/python3.10/dist-packages (from nbconvert) (0.8.4)\n",
            "Requirement already satisfied: nbclient>=0.5.0 in /usr/local/lib/python3.10/dist-packages (from nbconvert) (0.10.0)\n",
            "Requirement already satisfied: nbformat>=5.1 in /usr/local/lib/python3.10/dist-packages (from nbconvert) (5.10.4)\n",
            "Requirement already satisfied: packaging in /usr/local/lib/python3.10/dist-packages (from nbconvert) (24.1)\n",
            "Requirement already satisfied: pandocfilters>=1.4.1 in /usr/local/lib/python3.10/dist-packages (from nbconvert) (1.5.1)\n",
            "Requirement already satisfied: pygments>=2.4.1 in /usr/local/lib/python3.10/dist-packages (from nbconvert) (2.16.1)\n",
            "Requirement already satisfied: tinycss2 in /usr/local/lib/python3.10/dist-packages (from nbconvert) (1.3.0)\n",
            "Requirement already satisfied: traitlets>=5.0 in /usr/local/lib/python3.10/dist-packages (from nbconvert) (5.7.1)\n",
            "Requirement already satisfied: platformdirs>=2.5 in /usr/local/lib/python3.10/dist-packages (from jupyter-core>=4.7->nbconvert) (4.2.2)\n",
            "Requirement already satisfied: jupyter-client>=6.1.12 in /usr/local/lib/python3.10/dist-packages (from nbclient>=0.5.0->nbconvert) (6.1.12)\n",
            "Requirement already satisfied: fastjsonschema>=2.15 in /usr/local/lib/python3.10/dist-packages (from nbformat>=5.1->nbconvert) (2.20.0)\n",
            "Requirement already satisfied: jsonschema>=2.6 in /usr/local/lib/python3.10/dist-packages (from nbformat>=5.1->nbconvert) (4.19.2)\n",
            "Requirement already satisfied: soupsieve>1.2 in /usr/local/lib/python3.10/dist-packages (from beautifulsoup4->nbconvert) (2.5)\n",
            "Requirement already satisfied: six>=1.9.0 in /usr/local/lib/python3.10/dist-packages (from bleach->nbconvert) (1.16.0)\n",
            "Requirement already satisfied: webencodings in /usr/local/lib/python3.10/dist-packages (from bleach->nbconvert) (0.5.1)\n",
            "Requirement already satisfied: attrs>=22.2.0 in /usr/local/lib/python3.10/dist-packages (from jsonschema>=2.6->nbformat>=5.1->nbconvert) (23.2.0)\n",
            "Requirement already satisfied: jsonschema-specifications>=2023.03.6 in /usr/local/lib/python3.10/dist-packages (from jsonschema>=2.6->nbformat>=5.1->nbconvert) (2023.12.1)\n",
            "Requirement already satisfied: referencing>=0.28.4 in /usr/local/lib/python3.10/dist-packages (from jsonschema>=2.6->nbformat>=5.1->nbconvert) (0.35.1)\n",
            "Requirement already satisfied: rpds-py>=0.7.1 in /usr/local/lib/python3.10/dist-packages (from jsonschema>=2.6->nbformat>=5.1->nbconvert) (0.19.0)\n",
            "Requirement already satisfied: pyzmq>=13 in /usr/local/lib/python3.10/dist-packages (from jupyter-client>=6.1.12->nbclient>=0.5.0->nbconvert) (24.0.1)\n",
            "Requirement already satisfied: python-dateutil>=2.1 in /usr/local/lib/python3.10/dist-packages (from jupyter-client>=6.1.12->nbclient>=0.5.0->nbconvert) (2.8.2)\n",
            "Requirement already satisfied: tornado>=4.1 in /usr/local/lib/python3.10/dist-packages (from jupyter-client>=6.1.12->nbclient>=0.5.0->nbconvert) (6.3.3)\n",
            "[NbConvertApp] WARNING | pattern '/Heart_Disease.ipynb' matched no files\n",
            "This application is used to convert notebook files (*.ipynb)\n",
            "        to various other formats.\n",
            "\n",
            "        WARNING: THE COMMANDLINE INTERFACE MAY CHANGE IN FUTURE RELEASES.\n",
            "\n",
            "Options\n",
            "=======\n",
            "The options below are convenience aliases to configurable class-options,\n",
            "as listed in the \"Equivalent to\" description-line of the aliases.\n",
            "To see all configurable class-options for some <cmd>, use:\n",
            "    <cmd> --help-all\n",
            "\n",
            "--debug\n",
            "    set log level to logging.DEBUG (maximize logging output)\n",
            "    Equivalent to: [--Application.log_level=10]\n",
            "--show-config\n",
            "    Show the application's configuration (human-readable format)\n",
            "    Equivalent to: [--Application.show_config=True]\n",
            "--show-config-json\n",
            "    Show the application's configuration (json format)\n",
            "    Equivalent to: [--Application.show_config_json=True]\n",
            "--generate-config\n",
            "    generate default config file\n",
            "    Equivalent to: [--JupyterApp.generate_config=True]\n",
            "-y\n",
            "    Answer yes to any questions instead of prompting.\n",
            "    Equivalent to: [--JupyterApp.answer_yes=True]\n",
            "--execute\n",
            "    Execute the notebook prior to export.\n",
            "    Equivalent to: [--ExecutePreprocessor.enabled=True]\n",
            "--allow-errors\n",
            "    Continue notebook execution even if one of the cells throws an error and include the error message in the cell output (the default behaviour is to abort conversion). This flag is only relevant if '--execute' was specified, too.\n",
            "    Equivalent to: [--ExecutePreprocessor.allow_errors=True]\n",
            "--stdin\n",
            "    read a single notebook file from stdin. Write the resulting notebook with default basename 'notebook.*'\n",
            "    Equivalent to: [--NbConvertApp.from_stdin=True]\n",
            "--stdout\n",
            "    Write notebook output to stdout instead of files.\n",
            "    Equivalent to: [--NbConvertApp.writer_class=StdoutWriter]\n",
            "--inplace\n",
            "    Run nbconvert in place, overwriting the existing notebook (only\n",
            "            relevant when converting to notebook format)\n",
            "    Equivalent to: [--NbConvertApp.use_output_suffix=False --NbConvertApp.export_format=notebook --FilesWriter.build_directory=]\n",
            "--clear-output\n",
            "    Clear output of current file and save in place,\n",
            "            overwriting the existing notebook.\n",
            "    Equivalent to: [--NbConvertApp.use_output_suffix=False --NbConvertApp.export_format=notebook --FilesWriter.build_directory= --ClearOutputPreprocessor.enabled=True]\n",
            "--no-prompt\n",
            "    Exclude input and output prompts from converted document.\n",
            "    Equivalent to: [--TemplateExporter.exclude_input_prompt=True --TemplateExporter.exclude_output_prompt=True]\n",
            "--no-input\n",
            "    Exclude input cells and output prompts from converted document.\n",
            "            This mode is ideal for generating code-free reports.\n",
            "    Equivalent to: [--TemplateExporter.exclude_output_prompt=True --TemplateExporter.exclude_input=True --TemplateExporter.exclude_input_prompt=True]\n",
            "--allow-chromium-download\n",
            "    Whether to allow downloading chromium if no suitable version is found on the system.\n",
            "    Equivalent to: [--WebPDFExporter.allow_chromium_download=True]\n",
            "--disable-chromium-sandbox\n",
            "    Disable chromium security sandbox when converting to PDF..\n",
            "    Equivalent to: [--WebPDFExporter.disable_sandbox=True]\n",
            "--show-input\n",
            "    Shows code input. This flag is only useful for dejavu users.\n",
            "    Equivalent to: [--TemplateExporter.exclude_input=False]\n",
            "--embed-images\n",
            "    Embed the images as base64 dataurls in the output. This flag is only useful for the HTML/WebPDF/Slides exports.\n",
            "    Equivalent to: [--HTMLExporter.embed_images=True]\n",
            "--sanitize-html\n",
            "    Whether the HTML in Markdown cells and cell outputs should be sanitized..\n",
            "    Equivalent to: [--HTMLExporter.sanitize_html=True]\n",
            "--log-level=<Enum>\n",
            "    Set the log level by value or name.\n",
            "    Choices: any of [0, 10, 20, 30, 40, 50, 'DEBUG', 'INFO', 'WARN', 'ERROR', 'CRITICAL']\n",
            "    Default: 30\n",
            "    Equivalent to: [--Application.log_level]\n",
            "--config=<Unicode>\n",
            "    Full path of a config file.\n",
            "    Default: ''\n",
            "    Equivalent to: [--JupyterApp.config_file]\n",
            "--to=<Unicode>\n",
            "    The export format to be used, either one of the built-in formats\n",
            "            ['asciidoc', 'custom', 'html', 'latex', 'markdown', 'notebook', 'pdf', 'python', 'rst', 'script', 'slides', 'webpdf']\n",
            "            or a dotted object name that represents the import path for an\n",
            "            ``Exporter`` class\n",
            "    Default: ''\n",
            "    Equivalent to: [--NbConvertApp.export_format]\n",
            "--template=<Unicode>\n",
            "    Name of the template to use\n",
            "    Default: ''\n",
            "    Equivalent to: [--TemplateExporter.template_name]\n",
            "--template-file=<Unicode>\n",
            "    Name of the template file to use\n",
            "    Default: None\n",
            "    Equivalent to: [--TemplateExporter.template_file]\n",
            "--theme=<Unicode>\n",
            "    Template specific theme(e.g. the name of a JupyterLab CSS theme distributed\n",
            "    as prebuilt extension for the lab template)\n",
            "    Default: 'light'\n",
            "    Equivalent to: [--HTMLExporter.theme]\n",
            "--sanitize_html=<Bool>\n",
            "    Whether the HTML in Markdown cells and cell outputs should be sanitized.This\n",
            "    should be set to True by nbviewer or similar tools.\n",
            "    Default: False\n",
            "    Equivalent to: [--HTMLExporter.sanitize_html]\n",
            "--writer=<DottedObjectName>\n",
            "    Writer class used to write the\n",
            "                                        results of the conversion\n",
            "    Default: 'FilesWriter'\n",
            "    Equivalent to: [--NbConvertApp.writer_class]\n",
            "--post=<DottedOrNone>\n",
            "    PostProcessor class used to write the\n",
            "                                        results of the conversion\n",
            "    Default: ''\n",
            "    Equivalent to: [--NbConvertApp.postprocessor_class]\n",
            "--output=<Unicode>\n",
            "    overwrite base name use for output files.\n",
            "                can only be used when converting one notebook at a time.\n",
            "    Default: ''\n",
            "    Equivalent to: [--NbConvertApp.output_base]\n",
            "--output-dir=<Unicode>\n",
            "    Directory to write output(s) to. Defaults\n",
            "                                  to output to the directory of each notebook. To recover\n",
            "                                  previous default behaviour (outputting to the current\n",
            "                                  working directory) use . as the flag value.\n",
            "    Default: ''\n",
            "    Equivalent to: [--FilesWriter.build_directory]\n",
            "--reveal-prefix=<Unicode>\n",
            "    The URL prefix for reveal.js (version 3.x).\n",
            "            This defaults to the reveal CDN, but can be any url pointing to a copy\n",
            "            of reveal.js.\n",
            "            For speaker notes to work, this must be a relative path to a local\n",
            "            copy of reveal.js: e.g., \"reveal.js\".\n",
            "            If a relative path is given, it must be a subdirectory of the\n",
            "            current directory (from which the server is run).\n",
            "            See the usage documentation\n",
            "            (https://nbconvert.readthedocs.io/en/latest/usage.html#reveal-js-html-slideshow)\n",
            "            for more details.\n",
            "    Default: ''\n",
            "    Equivalent to: [--SlidesExporter.reveal_url_prefix]\n",
            "--nbformat=<Enum>\n",
            "    The nbformat version to write.\n",
            "            Use this to downgrade notebooks.\n",
            "    Choices: any of [1, 2, 3, 4]\n",
            "    Default: 4\n",
            "    Equivalent to: [--NotebookExporter.nbformat_version]\n",
            "\n",
            "Examples\n",
            "--------\n",
            "\n",
            "    The simplest way to use nbconvert is\n",
            "\n",
            "            > jupyter nbconvert mynotebook.ipynb --to html\n",
            "\n",
            "            Options include ['asciidoc', 'custom', 'html', 'latex', 'markdown', 'notebook', 'pdf', 'python', 'rst', 'script', 'slides', 'webpdf'].\n",
            "\n",
            "            > jupyter nbconvert --to latex mynotebook.ipynb\n",
            "\n",
            "            Both HTML and LaTeX support multiple output templates. LaTeX includes\n",
            "            'base', 'article' and 'report'.  HTML includes 'basic', 'lab' and\n",
            "            'classic'. You can specify the flavor of the format used.\n",
            "\n",
            "            > jupyter nbconvert --to html --template lab mynotebook.ipynb\n",
            "\n",
            "            You can also pipe the output to stdout, rather than a file\n",
            "\n",
            "            > jupyter nbconvert mynotebook.ipynb --stdout\n",
            "\n",
            "            PDF is generated via latex\n",
            "\n",
            "            > jupyter nbconvert mynotebook.ipynb --to pdf\n",
            "\n",
            "            You can get (and serve) a Reveal.js-powered slideshow\n",
            "\n",
            "            > jupyter nbconvert myslides.ipynb --to slides --post serve\n",
            "\n",
            "            Multiple notebooks can be given at the command line in a couple of\n",
            "            different ways:\n",
            "\n",
            "            > jupyter nbconvert notebook*.ipynb\n",
            "            > jupyter nbconvert notebook1.ipynb notebook2.ipynb\n",
            "\n",
            "            or you can specify the notebooks list in a config file, containing::\n",
            "\n",
            "                c.NbConvertApp.notebooks = [\"my_notebook.ipynb\"]\n",
            "\n",
            "            > jupyter nbconvert --config mycfg.py\n",
            "\n",
            "To see all available configurables, use `--help-all`.\n",
            "\n"
          ]
        }
      ]
    }
  ]
}